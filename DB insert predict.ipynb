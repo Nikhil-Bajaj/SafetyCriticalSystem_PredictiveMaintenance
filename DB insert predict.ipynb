{
 "cells": [
  {
   "cell_type": "code",
   "execution_count": null,
   "id": "18d5f370",
   "metadata": {},
   "outputs": [],
   "source": [
    "import numpy as np\n",
    "import pandas as pd\n",
    "import matplotlib.pyplot as plt\n",
    "import seaborn as sns\n",
    "sns.set(color_codes=True)\n",
    "import warnings\n",
    "warnings.filterwarnings('ignore')\n",
    "\n",
    "from sklearn.linear_model import LogisticRegression\n",
    "from sklearn.svm import SVC\n",
    "from sklearn.ensemble import RandomForestClassifier\n",
    "from sklearn.metrics import confusion_matrix,accuracy_score,precision_score,recall_score,f1_score\n",
    "from sklearn.model_selection import cross_validate,GridSearchCV,RandomizedSearchCV\n",
    "from tpot import TPOTClassifier\n",
    "from scipy.stats import randint\n",
    "from sklearn.neighbors import KNeighborsClassifier\n",
    "from sklearn.naive_bayes import GaussianNB\n",
    "from sklearn.tree import DecisionTreeClassifier\n",
    "from sklearn.preprocessing import StandardScaler\n",
    "from sklearn.model_selection import train_test_split\n",
    "from sklearn import metrics"
   ]
  },
  {
   "cell_type": "code",
   "execution_count": null,
   "id": "cae6946b",
   "metadata": {},
   "outputs": [],
   "source": [
    "a=[]\n",
    "for i in [\"PS1\",\"PS2\",\"PS3\",\"PS4\",\"PS5\",\"PS6\"]:\n",
    "    PS=np.genfromtxt(\"C:/Users/nikhi/Downloads/archive\"+\"/\"+i+\".txt\")\n",
    "    a.append(PS)\n",
    "ps1,ps2,ps3,ps4,ps5,ps6=a\n",
    "\n",
    "ps1_arr=ps1.mean(axis=1)\n",
    "ps2_arr=ps2.mean(axis=1)\n",
    "ps3_arr=ps3.mean(axis=1)\n",
    "ps4_arr=ps4.mean(axis=1)\n",
    "ps5_arr=ps5.mean(axis=1)\n",
    "ps6_arr=ps6.mean(axis=1)\n",
    "\n",
    "df=pd.DataFrame({\"PS1\":ps1_arr,\"PS2\":ps2_arr,\"PS3\":ps3_arr,\"PS4\":ps4_arr,\"PS5\":ps5_arr,\"PS6\":ps6_arr})"
   ]
  },
  {
   "cell_type": "code",
   "execution_count": null,
   "id": "07469b1c",
   "metadata": {},
   "outputs": [],
   "source": [
    "eps1=np.genfromtxt(\"C:/Users/nikhi/Downloads/archive/EPS1.txt\")\n",
    "esp1_arr=eps1.mean(axis=1)\n",
    "df[\"ESP1\"]=esp1_arr\n",
    "b=[]\n",
    "for i in [\"FS1\",\"FS2\"]:\n",
    "    FS=np.genfromtxt(\"C:/Users/nikhi/Downloads/archive\"+\"/\"+i+\".txt\")\n",
    "    b.append(FS)\n",
    "fs1, fs2 = b\n",
    "fs1_arr=fs1.mean(axis=1)\n",
    "fs2_arr=fs2.mean(axis=1)\n",
    "df[\"FS1\"]=fs1_arr\n",
    "df[\"FS2\"]=fs2_arr"
   ]
  },
  {
   "cell_type": "code",
   "execution_count": null,
   "id": "782bf9a2",
   "metadata": {},
   "outputs": [],
   "source": [
    "a=[]\n",
    "for i in [\"TS1\",\"TS2\",\"TS3\",\"TS4\"]:\n",
    "    TS=np.genfromtxt(\"C:/Users/nikhi/Downloads/archive\"+\"/\"+i+\".txt\")\n",
    "    a.append(TS)\n",
    "ts1,ts2,ts3,ts4=a\n",
    "ts1_arr=ts1.mean(axis=1)\n",
    "ts2_arr=ts2.mean(axis=1)\n",
    "ts3_arr=ts3.mean(axis=1)\n",
    "ts4_arr=ts4.mean(axis=1)\n",
    "df[\"TS1\"]=ts1_arr\n",
    "df[\"TS2\"]=ts2_arr\n",
    "df[\"TS3\"]=ts3_arr\n",
    "df[\"TS4\"]=ts4_arr\n"
   ]
  },
  {
   "cell_type": "code",
   "execution_count": null,
   "id": "02295866",
   "metadata": {},
   "outputs": [],
   "source": [
    "vs1=np.genfromtxt(\"C:/Users/nikhi/Downloads/archive/VS1.txt\")\n",
    "vs1_arr=vs1.mean(axis=1)\n",
    "df[\"VS1\"]=vs1_arr\n"
   ]
  },
  {
   "cell_type": "code",
   "execution_count": null,
   "id": "6ea9bf76",
   "metadata": {},
   "outputs": [],
   "source": [
    "a=[]\n",
    "for i in [\"CE\",\"CP\"]:\n",
    "    C=np.genfromtxt(\"C:/Users/nikhi/Downloads/archive\"+\"/\"+i+\".txt\")\n",
    "    a.append(C)\n",
    "ce,cp=a\n",
    "ce_arr=ce.mean(axis=1)\n",
    "cp_arr=cp.mean(axis=1)\n",
    "df[\"CE\"]=ce_arr\n",
    "df[\"CP\"]=cp_arr\n"
   ]
  },
  {
   "cell_type": "code",
   "execution_count": null,
   "id": "29873ff0",
   "metadata": {},
   "outputs": [],
   "source": [
    "se=np.genfromtxt(\"C:/Users/nikhi/Downloads/archive/SE.txt\")\n",
    "se_arr=se.mean(axis=1)\n",
    "df[\"SE\"]=se_arr"
   ]
  },
  {
   "cell_type": "code",
   "execution_count": null,
   "id": "5a638a66",
   "metadata": {},
   "outputs": [],
   "source": [
    "profile=np.genfromtxt(\"C:/Users/nikhi/Downloads/archive/profile.txt\")\n",
    "print(profile)"
   ]
  },
  {
   "cell_type": "code",
   "execution_count": null,
   "id": "853d3d77",
   "metadata": {},
   "outputs": [],
   "source": [
    "import time\n",
    "\n",
    "import psycopg2\n",
    "import pandas as pd\n",
    "\n",
    "DB_HOST = \"127.0.0.1\"\n",
    "DB_NAME = \"\"\n",
    "DB_USER = \"postgres\"\n",
    "DB_PASS = \"Nikhil\"\n"
   ]
  },
  {
   "cell_type": "code",
   "execution_count": null,
   "id": "c6102eed",
   "metadata": {},
   "outputs": [],
   "source": [
    "target=np.genfromtxt(\"C:/Users/nikhi/Downloads/archive/profile.txt\")\n",
    "\n",
    "df_temp=pd.DataFrame(target,columns=[\"Cooler_Condition\",\"Valve_Condition\",\"Internal_Pump_Leakage\",\"Hydraulic_Accumulator\",\"Stable_Flag\"])\n",
    "df_final=pd.concat([df,df_temp],axis=1)"
   ]
  },
  {
   "cell_type": "code",
   "execution_count": null,
   "id": "ef2c8ac5",
   "metadata": {},
   "outputs": [],
   "source": [
    "with open('target1.pkl' , 'rb') as f:\n",
    "    lr1 = pickle.load(f)\n",
    "with open('target2.pkl' , 'rb') as f:\n",
    "    lr2 = pickle.load(f)\n",
    "with open('target3.pkl' , 'rb') as f:\n",
    "    lr3 = pickle.load(f)\n",
    "with open('target4.pkl' , 'rb') as f:\n",
    "    lr4 = pickle.load(f)\n",
    "with open('finaltarget.pkl' , 'rb') as f:\n",
    "    lr5 = pickle.load(f)\n",
    "with open('target1_15m.pkl' , 'rb') as f:\n",
    "    lr6 = pickle.load(f)\n",
    "with open('target2_15m.pkl' , 'rb') as f:\n",
    "    lr7 = pickle.load(f)\n",
    "with open('target3_15m.pkl' , 'rb') as f:\n",
    "    lr8 = pickle.load(f)\n",
    "with open('target4_15m.pkl' , 'rb') as f:\n",
    "    lr9 = pickle.load(f)\n",
    "with open('finaltarget_15m.pkl' , 'rb') as f:\n",
    "    lr10 = pickle.load(f)"
   ]
  },
  {
   "cell_type": "code",
   "execution_count": null,
   "id": "83790105",
   "metadata": {},
   "outputs": [],
   "source": [
    "x=df_final.iloc[:,:-5]\n",
    "y=df_final.iloc[:,-5:]\n",
    "y_ind=y.iloc[:,:-1]\n",
    "x_15=x.iloc[:-14,:]"
   ]
  },
  {
   "cell_type": "code",
   "execution_count": null,
   "id": "9b9e2701",
   "metadata": {},
   "outputs": [],
   "source": [
    "model_list = [lr1,lr2,lr3,lr4]\n",
    "model_list1= [lr6,lr7,lr8,lr9]"
   ]
  },
  {
   "cell_type": "code",
   "execution_count": null,
   "id": "a4b40288",
   "metadata": {},
   "outputs": [],
   "source": [
    "sc1 = StandardScaler()   # 4 values 15m\n",
    "sc1.fit_transform(y_15)\n",
    "sc2=StandardScaler()  #general values\n",
    "sc2.fit_transform(x)\n",
    "sc3= StandardScaler()  # 4 values\n",
    "sc3.fit_transform(y_ind)\n",
    "sc4 = StandardScaler()  # general values 15m\n",
    "sc4.fit_transform(x_15)"
   ]
  },
  {
   "cell_type": "code",
   "execution_count": null,
   "id": "cf144479",
   "metadata": {},
   "outputs": [],
   "source": [
    "for index, row in df.iterrows():\n",
    "    list_of_data = df.loc[index].tolist()\n",
    "    list_of_data = np.array(list_of_data).reshape(1,-1)\n",
    "    print(list_of_data)\n",
    "    list_of_data = sc2.transform(list_of_data)\n",
    "    asd = []\n",
    "    asd1= []\n",
    "    for j in model_list:\n",
    "        out = j.predict(list_of_data)\n",
    "        asd.append(out)\n",
    "    for k in asd:\n",
    "        print(k)\n",
    "\n",
    "    for u in model_list1:\n",
    "        out = u.predict(list_of_data)\n",
    "        asd1.append(out)\n",
    "\n",
    "    for l in asd1:\n",
    "        print(l)\n",
    "    asd2 =[]\n",
    "    asd3 = []\n",
    "    asd[1] = [profile[index][1]]\n",
    "    asd = np.array(asd).reshape(1,-1)\n",
    "    asd1 = np.array(asd1).reshape(1,-1)\n",
    "    asd2 = asd\n",
    "    asd3 = asd1\n",
    "    asd =sc3.transform(asd)\n",
    "    asd1 =sc1.transform(asd1)\n",
    "    m = []\n",
    "    n= []\n",
    "    m= lr5.predict(asd)\n",
    "    n = lr10.predict(asd1)\n",
    "    conn = psycopg2.connect(user=\"postgres\", password=\"Nikhil\", host=\"localhost\", port=\"5432\", database=\"postgres\")\n",
    "    cur = conn.cursor()\n",
    "    time_now = time.time()\n",
    "    \n",
    "    print(\"---------------\")\n",
    "    query_string = f\"INSERT INTO Sensor_data (CE,CP,EPS1,FS1,FS2,PS1,PS2,PS3,PS4,PS5,PS6,SE,TS1,TS2,TS3,TS4,VS1,TimeStamp) VALUES ({row.CE}, {row.CP}, {row.ESP1}, {row.FS1}, {row.FS2}, {row.PS1}, {row.PS2}, {row.PS3}, {row.PS4}, {row.PS5}, {row.PS6}, {row.SE}, {row.TS1}, {row.TS2}, {row.TS3}, {row.TS4}, {row.VS1}, {int(time_now)} )\" \n",
    "    print(query_string)\n",
    "    query_string2 =f\"INSERT INTO Metrics (CoolerCondition, ValveCondition, InternalPumpLeakage, HydraulicAccumulator, StableFlag, timestamp) VALUES ({asd2[0][0]}, {asd2[0][1]}, {asd2[0][2]}, {asd2[0][3]}, {m[0]}, {int(time_now)})\"\n",
    "    print(query_string2)\n",
    "    query_string3 =f\"INSERT INTO Metrics_predict15 (CoolerCondition, ValveCondition, InternalPumpLeakage, HydraulicAccumulator, StableFlag, timestamp) VALUES ({asd3[0][0]}, {asd3[0][1]}, {asd3[0][2]}, {asd3[0][3]}, {n[0]}, {int(time_now)})\"\n",
    "    print(query_string3)\n",
    "    cur.execute(str.encode(query_string))\n",
    "    cur.execute(str.encode(query_string2))\n",
    "    cur.execute(str.encode(query_string3))\n",
    "    time.sleep(1)\n",
    "    count = cur.rowcount\n",
    "    print(count, \"Record inserted successfully into table\")\n",
    "    conn.commit()\n",
    "    cur.close()\n",
    "    conn.close()"
   ]
  },
  {
   "cell_type": "code",
   "execution_count": null,
   "id": "9838b1de",
   "metadata": {},
   "outputs": [],
   "source": []
  },
  {
   "cell_type": "code",
   "execution_count": null,
   "id": "a68684b7",
   "metadata": {},
   "outputs": [],
   "source": []
  },
  {
   "cell_type": "code",
   "execution_count": null,
   "id": "fe447ce5",
   "metadata": {},
   "outputs": [],
   "source": []
  }
 ],
 "metadata": {
  "kernelspec": {
   "display_name": "Python 3 (ipykernel)",
   "language": "python",
   "name": "python3"
  },
  "language_info": {
   "codemirror_mode": {
    "name": "ipython",
    "version": 3
   },
   "file_extension": ".py",
   "mimetype": "text/x-python",
   "name": "python",
   "nbconvert_exporter": "python",
   "pygments_lexer": "ipython3",
   "version": "3.9.7"
  }
 },
 "nbformat": 4,
 "nbformat_minor": 5
}
